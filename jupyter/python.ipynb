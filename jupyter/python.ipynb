{
 "cells": [
  {
   "cell_type": "code",
   "execution_count": 6,
   "metadata": {
    "collapsed": true
   },
   "outputs": [
    {
     "name": "stdout",
     "output_type": "stream",
     "text": [
      "TypeType: string\n",
      "TypeKey: string\n",
      "Modifiers: list<item: string>\n",
      "  child 0, item: string\n",
      "Struct: struct<Demo: string>\n",
      "  child 0, Demo: string\n"
     ]
    }
   ],
   "source": [
    "import pyarrow as pa\n",
    "\n",
    "# Define the data\n",
    "data = [\n",
    "    {\n",
    "        \"TypeType\": \"org.archguard.scanner.core.sourcecode.SourceCodeContext\",\n",
    "        \"TypeKey\": \"context\",\n",
    "        \"Modifiers\": [\n",
    "            \"override\",\n",
    "            \"val\"\n",
    "        ]\n",
    "    }\n",
    "]\n",
    "\n",
    "# Define a schema for the data\n",
    "schema = pa.schema([\n",
    "    ('TypeType', pa.string()),\n",
    "    ('TypeKey', pa.string()),\n",
    "    ('Modifiers', pa.list_(pa.string())),\n",
    "    ('Struct', pa.struct([\n",
    "        (\"Demo\", pa.string())\n",
    "    ]))\n",
    "])\n",
    "\n",
    "print(schema)"
   ]
  }
 ],
 "metadata": {
  "kernelspec": {
   "display_name": "Python 3",
   "language": "python",
   "name": "python3"
  },
  "language_info": {
   "codemirror_mode": {
    "name": "ipython",
    "version": 2
   },
   "file_extension": ".py",
   "mimetype": "text/x-python",
   "name": "python",
   "nbconvert_exporter": "python",
   "pygments_lexer": "ipython2",
   "version": "2.7.6"
  }
 },
 "nbformat": 4,
 "nbformat_minor": 0
}
