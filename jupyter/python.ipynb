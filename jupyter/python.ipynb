{
 "cells": [
  {
   "cell_type": "code",
   "execution_count": 39,
   "outputs": [],
   "source": [
    "import pyarrow as pa\n",
    "from pyarrow import json\n",
    "import pyarrow.feather as feather\n",
    "\n",
    "table = json.read_json(\"one_data.json\")\n",
    "schema = table.schema\n",
    "\n",
    "feather.write_feather(table, 'output.feather')\n",
    "\n",
    "with pa.OSFile('output.arrow', 'wb') as sink:\n",
    "    with pa.ipc.new_file(sink, schema=schema) as writer:\n",
    "        batch = pa.record_batch(table.to_pandas(), schema=schema)\n",
    "        writer.write(batch)"
   ],
   "metadata": {
    "collapsed": false
   }
  },
  {
   "cell_type": "code",
   "execution_count": null,
   "outputs": [],
   "source": [],
   "metadata": {
    "collapsed": false,
    "pycharm": {
     "is_executing": true
    }
   }
  },
  {
   "cell_type": "code",
   "execution_count": 41,
   "outputs": [
    {
     "ename": "AttributeError",
     "evalue": "'pyarrow.lib.Schema' object has no attribute 'to_json'",
     "output_type": "error",
     "traceback": [
      "\u001B[0;31m---------------------------------------------------------------------------\u001B[0m",
      "\u001B[0;31mAttributeError\u001B[0m                            Traceback (most recent call last)",
      "Cell \u001B[0;32mIn[41], line 9\u001B[0m\n\u001B[1;32m      6\u001B[0m     loaded_arrays \u001B[38;5;241m=\u001B[39m arrow_file\u001B[38;5;241m.\u001B[39mread_all()\n\u001B[1;32m      8\u001B[0m schema \u001B[38;5;241m=\u001B[39m arrow_file\u001B[38;5;241m.\u001B[39mschema\n\u001B[0;32m----> 9\u001B[0m json_schema \u001B[38;5;241m=\u001B[39m \u001B[43mschema\u001B[49m\u001B[38;5;241;43m.\u001B[39;49m\u001B[43mto_json\u001B[49m()\n\u001B[1;32m     10\u001B[0m \u001B[38;5;28mprint\u001B[39m(json_schema)\n",
      "\u001B[0;31mAttributeError\u001B[0m: 'pyarrow.lib.Schema' object has no attribute 'to_json'"
     ]
    }
   ],
   "source": [
    "# import pandas\n",
    "import pyarrow.feather as feather\n",
    "\n",
    "with pa.memory_map('output.arrow', 'r') as source:\n",
    "    arrow_file = pa.ipc.open_file(source)\n",
    "    loaded_arrays = arrow_file.read_all()\n",
    "\n",
    "schema = arrow_file.schema"
   ],
   "metadata": {
    "collapsed": false
   }
  },
  {
   "cell_type": "code",
   "execution_count": null,
   "outputs": [],
   "source": [],
   "metadata": {
    "collapsed": false
   }
  }
 ],
 "metadata": {
  "kernelspec": {
   "display_name": "Python 3",
   "language": "python",
   "name": "python3"
  },
  "language_info": {
   "codemirror_mode": {
    "name": "ipython",
    "version": 2
   },
   "file_extension": ".py",
   "mimetype": "text/x-python",
   "name": "python",
   "nbconvert_exporter": "python",
   "pygments_lexer": "ipython2",
   "version": "2.7.6"
  }
 },
 "nbformat": 4,
 "nbformat_minor": 0
}
